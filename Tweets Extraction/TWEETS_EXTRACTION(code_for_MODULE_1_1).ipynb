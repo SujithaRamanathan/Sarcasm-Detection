{
  "nbformat": 4,
  "nbformat_minor": 0,
  "metadata": {
    "kernelspec": {
      "display_name": "Python 3",
      "language": "python",
      "name": "python3"
    },
    "language_info": {
      "codemirror_mode": {
        "name": "ipython",
        "version": 3
      },
      "file_extension": ".py",
      "mimetype": "text/x-python",
      "name": "python",
      "nbconvert_exporter": "python",
      "pygments_lexer": "ipython3",
      "version": "3.8.5"
    },
    "colab": {
      "name": "TWEETS-EXTRACTION(code for MODULE-1.1).ipynb",
      "provenance": []
    }
  },
  "cells": [
    {
      "cell_type": "code",
      "metadata": {
        "id": "WeVa6_zuwBUw"
      },
      "source": [
        "import tweepy\n",
        "from time import sleep"
      ],
      "execution_count": null,
      "outputs": []
    },
    {
      "cell_type": "code",
      "metadata": {
        "id": "QyzucbAiwBUx"
      },
      "source": [
        "import pandas as pd\n",
        "import csv\n",
        "import re \n",
        "import string\n",
        "import preprocessor as p"
      ],
      "execution_count": null,
      "outputs": []
    },
    {
      "cell_type": "code",
      "metadata": {
        "id": "WSIxPqn0wBUy"
      },
      "source": [
        "consumer_key = \"oIePciZlJJttpojFUs5aTpEp2\"\n",
        "consumer_secret = \"PLpRrWVXWKIVDyQclrsXUI448YMfXLTAvMPMVb3lrC3P2O4FSY\"\n",
        "access_key= \"1373843908728344577-c1a3bXlxuNF6XFnKTyRC9x7taLmV6o\"\n",
        "access_secret = \"w04xvdx9gCNMy33lroIyIMaxsJ4jnwjOmJChCpGdTPsEa\"\n",
        " "
      ],
      "execution_count": null,
      "outputs": []
    },
    {
      "cell_type": "code",
      "metadata": {
        "id": "2VzaBP8kwBUz"
      },
      "source": [
        "auth = tweepy.OAuthHandler(consumer_key, consumer_secret)\n",
        "auth.set_access_token(access_key, access_secret)\n",
        " \n",
        "api = tweepy.API(auth,wait_on_rate_limit=True)\n",
        "\n"
      ],
      "execution_count": null,
      "outputs": []
    },
    {
      "cell_type": "code",
      "metadata": {
        "id": "VYq75IQvwBUz"
      },
      "source": [
        " \n",
        "csvFile = open('sar_16.csv', 'a')\n",
        "csvWriter = csv.writer(csvFile)\n",
        " \n",
        "search_words = \"#sarcasm\"      # enter your words\n",
        "new_search = search_words + \" -filter:retweets\""
      ],
      "execution_count": null,
      "outputs": []
    },
    {
      "cell_type": "code",
      "metadata": {
        "id": "fICOwwBDwBU0"
      },
      "source": [
        "for tweet in tweepy.Cursor(api.search,q=new_search,count=100,lang=\"en\",since_id=0).items():\n",
        "    \n",
        "    csvWriter.writerow([tweet.created_at, tweet.text.encode('utf-8'),tweet.user.screen_name.encode('utf-8'), tweet.user.location.encode('utf-8')])\n"
      ],
      "execution_count": null,
      "outputs": []
    },
    {
      "cell_type": "code",
      "metadata": {
        "id": "avAXh-5ywBU1"
      },
      "source": [
        ""
      ],
      "execution_count": null,
      "outputs": []
    }
  ]
}